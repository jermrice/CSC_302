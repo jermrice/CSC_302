{
  "nbformat": 4,
  "nbformat_minor": 0,
  "metadata": {
    "colab": {
      "provenance": [],
      "include_colab_link": true
    },
    "kernelspec": {
      "name": "python3",
      "display_name": "Python 3"
    },
    "language_info": {
      "name": "python"
    }
  },
  "cells": [
    {
      "cell_type": "markdown",
      "metadata": {
        "id": "view-in-github",
        "colab_type": "text"
      },
      "source": [
        "<a href=\"https://colab.research.google.com/github/jermrice/CSC_302/blob/main/FacetGrid_ICA_Rice.ipynb\" target=\"_parent\"><img src=\"https://colab.research.google.com/assets/colab-badge.svg\" alt=\"Open In Colab\"/></a>"
      ]
    },
    {
      "cell_type": "code",
      "execution_count": 1,
      "metadata": {
        "id": "tceTMUyfz5tN"
      },
      "outputs": [],
      "source": [
        "import pandas as pd\n",
        "import seaborn as sns\n",
        "import matplotlib.pyplot as plt"
      ]
    },
    {
      "cell_type": "code",
      "source": [
        "from google.colab import drive\n",
        "drive.mount('/content/drive')"
      ],
      "metadata": {
        "colab": {
          "base_uri": "https://localhost:8080/"
        },
        "id": "PurAiY00C7hV",
        "outputId": "608815ed-d11b-46f5-d9a2-4df158f62dbc"
      },
      "execution_count": 2,
      "outputs": [
        {
          "output_type": "stream",
          "name": "stdout",
          "text": [
            "Mounted at /content/drive\n"
          ]
        }
      ]
    },
    {
      "cell_type": "markdown",
      "source": [
        "\n",
        "\n",
        "*   Please read titanic.csv from the DATA folder\n",
        "*   Change 1s to \"Survived\" under the Survived column of the data frame by looking at the example provided.\n",
        "*   Get rows which don't have \"?\" under Pclass column and move to the next step.\n",
        "\n",
        "\n"
      ],
      "metadata": {
        "id": "RFb4-nn2AOTd"
      }
    },
    {
      "cell_type": "code",
      "source": [
        "\n",
        "titanic = pd.read_csv('/content/drive/MyDrive/DATA/titanic.csv')\n",
        "titanic.loc[titanic[\"Survived\"] == 0, \"Survived\"] = \"Died\"\n",
        "\n",
        "\n"
      ],
      "metadata": {
        "id": "lKnChxAj0YtB"
      },
      "execution_count": 3,
      "outputs": []
    },
    {
      "cell_type": "code",
      "source": [
        "titanic = pd.read_csv('/content/drive/MyDrive/DATA/titanic.csv')\n",
        "titanic.loc[titanic[\"Survived\"] == 0, \"Survived\"] = \"Died\"\n",
        "titanic.loc[titanic[\"Survived\"] == 1, \"Survived\"] = \"Survived\""
      ],
      "metadata": {
        "id": "uTXI9iUbD50j"
      },
      "execution_count": 5,
      "outputs": []
    },
    {
      "cell_type": "markdown",
      "source": [
        "Create a multipanel plot which draws density plots for each class-survived combination. Please also use the hue parameter based on the Sex attribute to have two density plots in each panel with different colors."
      ],
      "metadata": {
        "id": "MzT1OCSCBNjk"
      }
    },
    {
      "cell_type": "code",
      "source": [
        "g = \"class 1\"\n",
        "metaStats = ['Died in Class 3','Died in Class 1', 'Died in Class 2', 'Survived in Class 3','Survived in Class 1', 'Survived in Class 2']\n",
        "for ax,title in zip(g.axes.flatten(),titles):\n",
        "    ax.set_title(metaStats )"
      ],
      "metadata": {
        "colab": {
          "base_uri": "https://localhost:8080/",
          "height": 245
        },
        "id": "f8F6teDO0tGE",
        "outputId": "7ac7db6d-d757-4138-ca80-5385df775c79"
      },
      "execution_count": 17,
      "outputs": [
        {
          "output_type": "error",
          "ename": "AttributeError",
          "evalue": "ignored",
          "traceback": [
            "\u001b[0;31m---------------------------------------------------------------------------\u001b[0m",
            "\u001b[0;31mAttributeError\u001b[0m                            Traceback (most recent call last)",
            "\u001b[0;32m<ipython-input-17-9455a0c639cf>\u001b[0m in \u001b[0;36m<cell line: 4>\u001b[0;34m()\u001b[0m\n\u001b[1;32m      2\u001b[0m \u001b[0maxes\u001b[0m \u001b[0;34m=\u001b[0m \u001b[0;34m\"1900\"\u001b[0m\u001b[0;34m\u001b[0m\u001b[0;34m\u001b[0m\u001b[0m\n\u001b[1;32m      3\u001b[0m \u001b[0mmetaStats\u001b[0m \u001b[0;34m=\u001b[0m \u001b[0;34m[\u001b[0m\u001b[0;34m'Died in Class 3'\u001b[0m\u001b[0;34m,\u001b[0m\u001b[0;34m'Died in Class 1'\u001b[0m\u001b[0;34m,\u001b[0m \u001b[0;34m'Died in Class 2'\u001b[0m\u001b[0;34m,\u001b[0m \u001b[0;34m'Survived in Class 3'\u001b[0m\u001b[0;34m,\u001b[0m\u001b[0;34m'Survived in Class 1'\u001b[0m\u001b[0;34m,\u001b[0m \u001b[0;34m'Survived in Class 2'\u001b[0m\u001b[0;34m]\u001b[0m\u001b[0;34m\u001b[0m\u001b[0;34m\u001b[0m\u001b[0m\n\u001b[0;32m----> 4\u001b[0;31m \u001b[0;32mfor\u001b[0m \u001b[0max\u001b[0m\u001b[0;34m,\u001b[0m\u001b[0mtitle\u001b[0m \u001b[0;32min\u001b[0m \u001b[0mzip\u001b[0m\u001b[0;34m(\u001b[0m\u001b[0mg\u001b[0m\u001b[0;34m.\u001b[0m\u001b[0maxes\u001b[0m\u001b[0;34m.\u001b[0m\u001b[0mflatten\u001b[0m\u001b[0;34m(\u001b[0m\u001b[0;34m)\u001b[0m\u001b[0;34m,\u001b[0m\u001b[0mtitles\u001b[0m\u001b[0;34m)\u001b[0m\u001b[0;34m:\u001b[0m\u001b[0;34m\u001b[0m\u001b[0;34m\u001b[0m\u001b[0m\n\u001b[0m\u001b[1;32m      5\u001b[0m     \u001b[0max\u001b[0m\u001b[0;34m.\u001b[0m\u001b[0mset_title\u001b[0m\u001b[0;34m(\u001b[0m\u001b[0mmetaStats\u001b[0m \u001b[0;34m)\u001b[0m\u001b[0;34m\u001b[0m\u001b[0;34m\u001b[0m\u001b[0m\n",
            "\u001b[0;31mAttributeError\u001b[0m: 'str' object has no attribute 'axes'"
          ]
        }
      ]
    },
    {
      "cell_type": "code",
      "source": [],
      "metadata": {
        "id": "gLOCLlso7whc"
      },
      "execution_count": null,
      "outputs": []
    }
  ]
}